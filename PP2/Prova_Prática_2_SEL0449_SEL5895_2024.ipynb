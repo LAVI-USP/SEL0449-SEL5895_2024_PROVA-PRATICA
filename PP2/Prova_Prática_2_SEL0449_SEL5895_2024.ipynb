{
  "nbformat": 4,
  "nbformat_minor": 0,
  "metadata": {
    "colab": {
      "provenance": [],
      "collapsed_sections": [
        "NyvxHviMpShq"
      ]
    },
    "kernelspec": {
      "name": "python3",
      "display_name": "Python 3"
    }
  },
  "cells": [
    {
      "cell_type": "markdown",
      "metadata": {
        "id": "kGlmyFQMaR-U"
      },
      "source": [
        "# Prova prática 2 - SEL0449-SEL5895 (2024)\n",
        "### Introdução ao Processamento Digital de Imagens (SEL0449/SEL5895 - 2024)\n",
        "\n",
        "**Instruções:**\n",
        "\n",
        " 1. Esta prova consiste em 1 exercício.\n",
        " 1. Deve-se colocar comentários nos códigos desenvolvidos.\n",
        "\n",
        "\n",
        "ATENÇÃO!\n",
        "\n",
        "Leia atentamente as instruções antes de iniciar a prova.\n",
        "\n",
        "Não serão aceitas reclamações posteriores por desconhecimento de qualquer informação descrita neste tópico.\n",
        "\n",
        "Instruções para a realização da Prova Prática 2 de Introdução ao Processamento Digital de Imagens (SEL0449/SEL5895):\n",
        "\n",
        "- A prova PP2 estará disponível no sistema e-Disciplinas, que deve ser acessado a partir das 8:10h do dia 25/06/2024 exclusivamente de um dos computadores do Laboratório LEI-SEL-MENOR;\n",
        "\n",
        "- Só será permitido o envio da prova resolvida até às 09:10 do mesmo dia, totalizando 1 hora de duração;\n",
        "\n",
        "- Após a conclusão da prova, faça o download do Jupyter notebook e envie para o professor pelo sistema E-Disciplinas;\n",
        "\n",
        "- Provas realizadas com acesso de outro computador não pertencente ao LEI-SEL não serão consideradas;\n",
        "\n",
        "- As provas são individuais e sem consulta;\n",
        "\n",
        "- Nenhum outro material deve permanecer com o aluno durante a prova: caderno, livros, notebook, mochila, estojo, calculadora, celular, smartphone, smartwatch, etc. estão proibidos.\n",
        "\n",
        "- Não será permitido ao aluno portar telefone celular nem smartwatch durante a prova, mesmo que desligado e no bolso. O mesmo deve ser colocado dentro da mochila ou em cima da mesa do professor. Não esqueça de desligá-lo!\n",
        "\n",
        "- Durante a realização das provas, todos os programas e janelas do computador devem permanecer fechadas, com exceção da tela do navegador com o e-Disciplinas e do Google Colab (exclusivamente no caso da PP2). A consulta a qualquer material online ou qualquer site durante a realização da prova será considerado \"cola\" e anulará a prova do aluno, que ficará com nota zero.\n",
        "\n",
        "- O aluno não poderá sair da sala durante o período de cada prova (apenas no intervalo entre elas);\n",
        "\n",
        "- Os monitores da disciplina não são autorizados a responder nenhuma pergunta sobre o conteúdo das provas.\n",
        "\n",
        "- Boa Prova!\n",
        "\n",
        "\n",
        "**Dicas:**\n",
        "\n",
        "* Caso queira obter a descrição de uma função específica, você pode utilizar o comando `help()`. Por exemplo: `help(np.max)`\n",
        "\n",
        "* Ao plotar as imagens lembre-se das funções da biblioteca matplotlib.pyplot. Exemplo:\n",
        "\n",
        "``` python\n",
        "# Exemplo\n",
        "plt.figure(figsize=(5,5)) # Tamanho da figura: 5x5 polegadas\n",
        "plt.imshow(img, 'gray', vmin = v_min, vmax = v_max) # Mapa de cores: escala de cinza. Definição do valor máximo e mínimo de intensidade para visualização.\n",
        "plt.title(\"Titulo da figura\")\n",
        "plt.show()\n",
        "```\n",
        "\n",
        "---\n",
        "\n",
        " <table class=\"tfo-notebook-buttons\" align=\"left\">\n",
        "  <td>\n",
        "    <a target=\"_blank\" href=\"https://colab.research.google.com/github/LAVI-USP/SEL0449-SEL5895_2024_PROVA-PRATICA/blob/main/PP2/Prova_Pr%C3%A1tica_2_SEL0449_SEL5895_2024.ipynb\"><img src=\"https://www.tensorflow.org/images/colab_logo_32px.png\" />Executar no Google Colab</a>\n",
        "  </td>\n",
        "  <td>\n",
        "    <a target=\"_blank\" href=\"https://github.com/LAVI-USP/SEL0449-SEL5895_2024_PROVA-PRATICA/blob/main/PP2/Prova_Pr%C3%A1tica_2_SEL0449_SEL5895_2024.ipynb\"><img src=\"https://www.tensorflow.org/images/GitHub-Mark-32px.png\" />Ver codigo fonte no GitHub</a>\n",
        "  </td>\n",
        "</table>\n",
        "\n"
      ]
    },
    {
      "cell_type": "markdown",
      "metadata": {
        "id": "L3qYz1dB-tlT"
      },
      "source": [
        "`Nome: `\n",
        "\n",
        "`Número USP: `\n"
      ]
    },
    {
      "cell_type": "markdown",
      "metadata": {
        "id": "b9uBe7nevota"
      },
      "source": [
        "### Introdução:\n",
        "\n",
        "\n",
        "Vamos importar as bibliotecas que iremos utilizar:"
      ]
    },
    {
      "cell_type": "code",
      "metadata": {
        "id": "xnKV2As4aCX1"
      },
      "source": [
        "import numpy as np\n",
        "import matplotlib.pyplot as plt\n",
        "import cv2 as cv"
      ],
      "execution_count": null,
      "outputs": []
    },
    {
      "cell_type": "markdown",
      "metadata": {
        "id": "NyvxHviMpShq"
      },
      "source": [
        "#### **Atenção**: os códigos abaixo são para fazer o download das imagens (EXECUTE-OS). Os mesmos não fazem parte dessa prática."
      ]
    },
    {
      "cell_type": "code",
      "metadata": {
        "id": "Amk5CM273Afp"
      },
      "source": [
        "import urllib.request\n",
        "\n",
        "try:\n",
        "  urllib.request.urlretrieve(\"https://github.com/LAVI-USP/SEL0449-SEL5895_2024_PROVA-PRATICA/blob/main/PP2/Imagens_prova/fingerprint.tif?raw=true\", \"fingerprint.tif\")\n",
        "except:\n",
        "  print(\"[ERRO] Não foi possível fazer o download das imagens dessa prática. Entre em contato com o monitor\")\n"
      ],
      "execution_count": null,
      "outputs": []
    },
    {
      "cell_type": "markdown",
      "source": [
        "### 1) Realce - Reconhecimento de digital:\n",
        "\n",
        "Na atualidade, muitas são as situações nas quais a impressão digital é utilizada como chave para o reconhecimento de indivíduos. Com aplicações desde o desbloqueio de celulares, abertura de portas, e até mesmo a validação de transações bancárias, é crucial, para a segurança e confiabilidade destes processos, que tal reconhecimento seja o mais preciso possível.\n",
        "\n",
        "Um importante passo no reconhecimento automatizado de impressões digitais é o realce das cristas das impressões.\n",
        "\n",
        "Neste exercício, utilizaremos, portanto, da filtragem passa-alta para realçar as cristas da impressão digital contida na imagem ```fingerprint.tif```, digitalizada com **resolução de 684 DPI**.\n",
        "\n",
        "\n",
        "1. Carregue a imagem ```fingerprint.tif``` e mostre-a.\n",
        "2. Passe esta imagem para o domínio da frequência (espectro de Fourier). Em seguida, mostre a magnitude do espectro (**Lembre-se do padding**).\n",
        "3. Crie um filtro de realce (50%) utilizando um passa-alta do tipo “Butterworth” (n = 4) com frequência de corte **1,3 ciclos/mm**. Aplique na imagem e verifique o resultado (mostre a magnitude do filtro criado, a imagem filtrada e o espectro de frequências filtrado).\n",
        "4. Binarize, através do método de Otsu, a imagem original e a imagem filtrada. Mostre os resultados lado a lado.\n",
        "5. Comente os resultados.\n",
        "\n",
        "\n",
        "**Dicas:**\n",
        "*  Filtro passa-baixa Butterworth:\n",
        "\n",
        "$$ H_{LPButterworth}(u,v) = \\frac{1}{{1+\\big[\\frac{D(u,v)}{D_0}}\\big]^{2n}}$$<br/>\n",
        "sendo D<sub>0</sub> o raio a partir da origem e n a ordem do filtro.\n",
        "\n",
        "*  Utilize a função *plt.subplot* para criar *subplots* e a função *plt.title* para colocar título em cada subplot. No plot das componentes utilize o *colormap* \"gray\" e especifique os valores máximos e mínimos em níveis de cinza.\n",
        "\n",
        "**Funções úteis:**\n",
        "\n",
        "```python\n",
        "f = np.fft.fft2(img,s=(Mf,Nf))\n",
        "fshift = np.fft.fftshift(f)\n",
        "magnitude_spectrum = 20*np.log(np.abs(fshift)+1.)\n",
        "\n",
        "ret,th = cv.threshold(img,0,255,cv.THRESH_BINARY+cv.THRESH_OTSU)\n",
        "\n",
        "```"
      ],
      "metadata": {
        "id": "hzip370PBeKK"
      }
    },
    {
      "cell_type": "code",
      "source": [
        "# Seu código começa aqui\n",
        "\n",
        "\n",
        "# Seu código termina aqui\n"
      ],
      "metadata": {
        "id": "pvMlE2cDyJ5k"
      },
      "execution_count": null,
      "outputs": []
    }
  ]
}
