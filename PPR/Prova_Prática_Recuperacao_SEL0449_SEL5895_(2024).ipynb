{
  "nbformat": 4,
  "nbformat_minor": 0,
  "metadata": {
    "colab": {
      "provenance": []
    },
    "kernelspec": {
      "name": "python3",
      "display_name": "Python 3"
    }
  },
  "cells": [
    {
      "cell_type": "markdown",
      "metadata": {
        "id": "kGlmyFQMaR-U"
      },
      "source": [
        "# Prova prática - Recuperação SEL0449-SEL5895 (2024)\n",
        "### Introdução ao Processamento Digital de Imagens (SEL0449/SEL5895)\n",
        "\n",
        "**Instruções:**\n",
        "\n",
        " 1. Esta prova consiste em 2 exercícios.\n",
        " 1. Deve-se colocar comentários nos códigos desenvolvidos.\n",
        "\n",
        "\n",
        "ATENÇÃO!\n",
        "\n",
        "Leia atentamente as instruções antes de iniciar a prova.\n",
        "\n",
        "Não serão aceitas reclamações posteriores por desconhecimento de qualquer informação descrita neste tópico.\n",
        "\n",
        "**Instruções para a realização da Prova Prática de Recuperação (PPR) de Introdução ao Processamento Digital de Imagens (SEL0449/SEL5895):**\n",
        "\n",
        "- A prova PPR estará disponível no sistema e-Disciplinas, que deve ser acessado a partir das 8:10h do dia 17/10/2024 exclusivamente de um dos computadores do Laboratório LEI-SEL-MENOR;\n",
        "\n",
        "- Só será permitido o envio da prova resolvida até às 9:10 do mesmo dia, totalizando 60 minutos de duração;\n",
        "\n",
        "- Após a conclusão da prova, faça o download do Jupyter notebook e envie para o professor pelo sistema E-Disciplinas;\n",
        "\n",
        "- Provas realizadas com acesso de outro computador não pertencente ao LEI-SEL não serão consideradas;\n",
        "\n",
        "- As provas são individuais e sem consulta;\n",
        "\n",
        "- Nenhum outro material deve permanecer com o aluno durante a prova: caderno, livros, notebook, mochila, estojo, calculadora, celular, smartphone, smartwatch, etc. estão proibidos.\n",
        "\n",
        "- Não será permitido ao aluno portar telefone celular nem smartwatch durante a prova, mesmo que desligado e no bolso. O mesmo deve ser colocado dentro da mochila ou em cima da mesa do professor. Não esqueça de desligá-lo!\n",
        "\n",
        "- Durante a realização das provas, todos os programas e janelas do computador devem permanecer fechadas, com exceção da tela do navegador com o e-Disciplinas e do Google Colab (exclusivamente no caso da PPR). A consulta a qualquer material online ou qualquer site durante a realização da prova será considerado \"cola\" e anulará a prova do aluno, que ficará com nota zero.\n",
        "\n",
        "- O aluno não poderá sair da sala durante o período de cada prova (apenas no intervalo entre elas);\n",
        "\n",
        "- Os monitores da disciplina não são autorizados a responder nenhuma pergunta sobre o conteúdo das provas.\n",
        "\n",
        "- Boa Prova!\n",
        "\n",
        "\n",
        "**Dicas gerais:**\n",
        "\n",
        "* Caso queira obter a descrição de uma função específica, você pode utilizar o comando `help()`. Por exemplo: `help(np.max)`\n",
        "\n",
        "* Ao plotar as imagens lembre-se das funções da biblioteca matplotlib.pyplot. Exemplo:\n",
        "\n",
        "``` python\n",
        "# Exemplo\n",
        "plt.figure(figsize=(size,size)) # Tamanho da figura\n",
        "plt.imshow(img, cmap = 'gray', vmin = x, vmax = y) # Mapa de cores: escala de cinza. Definição do valor máximo e mínimo de intensidade para visualização.\n",
        "plt.title(\"Titulo da figura\")\n",
        "plt.show()\n",
        "```\n",
        "\n",
        "---\n",
        "\n",
        " <table class=\"tfo-notebook-buttons\" align=\"left\">\n",
        "  <td>\n",
        "    <a target=\"_blank\" href=\"https://colab.research.google.com/github/LAVI-USP/SEL0449-SEL5895_2024_PROVA-PRATICA/blob/main/PPR/Prova_Pr%C3%A1tica_Recuperacao_SEL0449_SEL5895_(2024).ipynb\"><img src=\"https://www.tensorflow.org/images/colab_logo_32px.png\" />Executar no Google Colab</a>\n",
        "  </td>\n",
        "  <td>\n",
        "    <a target=\"_blank\" href=\"https://github.com/LAVI-USP/SEL0449-SEL5895_2024_PROVA-PRATICA/blob/main/PPR/Prova_Pr%C3%A1tica_Recuperacao_SEL0449_SEL5895_(2024).ipynb\"><img src=\"https://www.tensorflow.org/images/GitHub-Mark-32px.png\" />Ver codigo fonte no GitHub</a>\n",
        "  </td>\n",
        "</table>\n",
        "\n"
      ]
    },
    {
      "cell_type": "markdown",
      "metadata": {
        "id": "L3qYz1dB-tlT"
      },
      "source": [
        "`Nome: `\n",
        "\n",
        "`Número USP: `\n"
      ]
    },
    {
      "cell_type": "markdown",
      "metadata": {
        "id": "b9uBe7nevota"
      },
      "source": [
        "### Introdução:\n",
        "\n",
        "\n",
        "Vamos importar as bibliotecas que iremos utilizar:"
      ]
    },
    {
      "cell_type": "code",
      "metadata": {
        "id": "xnKV2As4aCX1"
      },
      "source": [
        "import numpy as np\n",
        "import matplotlib.pyplot as plt\n",
        "import cv2 as cv\n",
        "import os\n",
        "\n",
        "from IPython.display import HTML\n",
        "from base64 import b64encode"
      ],
      "execution_count": 1,
      "outputs": []
    },
    {
      "cell_type": "markdown",
      "metadata": {
        "id": "NyvxHviMpShq"
      },
      "source": [
        "#### **Atenção**: os códigos abaixo são para fazer o download das imagens (EXECUTE-OS). Os mesmos não fazem parte dessa prática."
      ]
    },
    {
      "cell_type": "code",
      "metadata": {
        "id": "Amk5CM273Afp"
      },
      "source": [
        "import urllib.request\n",
        "\n",
        "try:\n",
        "  urllib.request.urlretrieve(\"https://github.com/LAVI-USP/SEL0449-SEL5895_2024_PROVA-PRATICA/blob/main/PPR/Imagens_prova/carro.png?raw=true\", \"carro.png\")\n",
        "except:\n",
        "  print(\"[ERRO] Não foi possível fazer o download das imagens dessa prática. Entre em contato com o monitor\")\n",
        "\n",
        "try:\n",
        "  urllib.request.urlretrieve(\"https://github.com/LAVI-USP/SEL0449-SEL5895_2024_PROVA-PRATICA/blob/main/PPR/Imagens_prova/ceu_noturno.png?raw=true\", \"ceu_noturno.png\")\n",
        "except:\n",
        "  print(\"[ERRO] Não foi possível fazer o download das imagens dessa prática. Entre em contato com o monitor\")\n",
        "\n"
      ],
      "execution_count": 2,
      "outputs": []
    },
    {
      "cell_type": "markdown",
      "source": [
        "### 1) Percepção de Contraste\n",
        "\n",
        "Em muitos sistemas de câmeras de segurança para visualização de ambientes externos é utilizada a luz infravermelho para melhor qualidade de detalhes em período noturno. As placas dos carros são também compostas por material com propriedade reflexiva de forma a facilitar sua visualização. Um dos problemas que acontecem nesses casos é que a fonte de luz infravermelho é localizada ao redor das câmeras, o que faz com que toda a luz refletida atinja a abertura da câmera de maneira direta, e muitas vezes pode ocasionar saturação dos pixels na região.\n",
        "\n",
        "**Exercício:**\n",
        "\n",
        "1. Mostre a imagem ```carro.png``` e em seguida faça um recorte da área onde a placa do carro se encontra. Mostre a área de placa e seu respectivo histograma.\n",
        "\n",
        "2. Ajuste o nível de cinza mínimo da imagem para visualização de uma faixa mais estreita do histograma, de forma a tornar a placa do veículo legível.\n",
        "\n",
        "3. Qual o código escrito na placa do carro?\n",
        "\n",
        "Dicas:\n",
        "\n",
        "*  A função [plt.hist](https://matplotlib.org/3.3.1/api/_as_gen/matplotlib.pyplot.hist.html) calcula e mostra o histograma.\n",
        "\n",
        "``` python\n",
        "plt.hist(myImg.flatten(),bins=XX,density=False,range=(0,255))\n",
        "```"
      ],
      "metadata": {
        "id": "l1jMJQ3UJyB3"
      }
    },
    {
      "cell_type": "code",
      "source": [
        "## -- Seu código começa AQUI -- ##\n",
        "\n",
        "## -- Seu código termina AQUI -- ##"
      ],
      "metadata": {
        "id": "ircO2JOJJ7eT"
      },
      "execution_count": null,
      "outputs": []
    },
    {
      "cell_type": "markdown",
      "source": [
        "### 2) Filtragem e detecção de altas frequências\n",
        "\n",
        "Ao capturar uma imagem do céu noturno com o intuito registrar quais estrelas e constelações estavam visíveis em um certo dia, percebeu-se que o tempo de exposição e capacidade de aquisição da máquina foram insuficientes.\n",
        "\n",
        "**Exercício:**\n",
        "\n",
        "1. Carregue e mostre a imagem ```ceu_noturno.png```.\n",
        "\n",
        "2. De maneira a visualizar as estrelas o céu não facilmente perceptíveis ao olho humano na imagem, aplique um filtro passa-alta e mostre o resultado após a filtragem. Utilize um tamanho de filtro com o qual seja possível visualizar o máximo número de estrelas de maneira nítida.\n",
        "\n",
        "3. Realize a filtragem da imagem com o mesmo kernel não-normalizado. Compare as imagens. O que é possível perceber.\n",
        "\n",
        "4. Qual a melhor configuração de filtro passa-alta para essa aplicação, e por quê?\n",
        "\n",
        "Dicas:\n",
        "\n",
        "*   **Plote as imagens em tamanho grande para ser possível visualizar as estrelas, relativamente pequenas na imagem.** Mostre as imagens na faixa de ```0-255 ```.\n",
        "\n",
        "*  Dependendo do tamanho do kernel a ser utilizado, inicializar e preencher a variável elemento a elemento pode ser uma tarefa custosa. Para tal finalidade, experimente utilizar a função [np.ones](https://numpy.org/doc/stable/reference/generated/numpy.ones.html) que gera uma matriz de '1's do tamanho informado. Exemplo de kernel 3x3:\n",
        "\n",
        "    ``` python\n",
        "    kernel = np.ones((3,3)) / 9\n",
        "    ```\n",
        "A partir da matriz criada, é possível manipular todos os elementos de uma só vez ou usar indexação, modificando um ou mais elementos em determinadas posições da matriz.\n",
        "\n",
        "*   Utilize a função [cv.filter2D](https://docs.opencv.org/3.4/d4/d86/group__imgproc__filter.html#ga27c049795ce870216ddfb366086b5a04) para fazer a convolução com o *kernel*.\n",
        "\n",
        "    ``` python\n",
        "    cv.filter2D(myImg, -1, myKernel)\n",
        "    ```\n",
        "\n",
        "*   Ao trabalhar com filtros convolucionais, é essencial garantir que a imagem a ser filtrada seja de um \"tipo\" de variável que contemple números \"quebrados\", tal como o tipo ```float```."
      ],
      "metadata": {
        "id": "ACS9fwNjpKqW"
      }
    },
    {
      "cell_type": "code",
      "source": [
        "## -- Seu código começa AQUI -- ##\n",
        "\n",
        "## -- Seu código termina AQUI -- ##"
      ],
      "metadata": {
        "id": "1NfC0waoFpf9"
      },
      "execution_count": null,
      "outputs": []
    }
  ]
}
