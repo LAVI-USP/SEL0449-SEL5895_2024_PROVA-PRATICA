{
  "nbformat": 4,
  "nbformat_minor": 0,
  "metadata": {
    "colab": {
      "provenance": []
    },
    "kernelspec": {
      "name": "python3",
      "display_name": "Python 3"
    }
  },
  "cells": [
    {
      "cell_type": "markdown",
      "metadata": {
        "id": "kGlmyFQMaR-U"
      },
      "source": [
        "# Prova prática - SEL0449-SEL5895 (2024)\n",
        "### Introdução ao Processamento Digital de Imagens (SEL0449/SEL5895 - 2024)\n",
        "\n",
        "**Instruções:**\n",
        "\n",
        " 1. Esta prova consiste em 2 exercícios.\n",
        " 1. Deve-se colocar comentários nos códigos desenvolvidos.\n",
        "\n",
        "\n",
        "ATENÇÃO!\n",
        "\n",
        "Leia atentamente as instruções antes de iniciar a prova.\n",
        "\n",
        "Não serão aceitas reclamações posteriores por desconhecimento de qualquer informação descrita neste tópico.\n",
        "\n",
        "Instruções para a realização da Prova 1 prática de Introdução ao Processamento Digital de Imagens (SEL0449/SEL5895):\n",
        "\n",
        "- A prova PP1 estará disponível no sistema e-Disciplinas, que deve ser acessado a partir das 8:05h do dia 23/04/2024 exclusivamente de um dos computadores do Laboratório LEI-SEL-MENOR;\n",
        "\n",
        "- Só será permitido o envio da prova resolvida até às 08:55 do mesmo dia, totalizando 50 minutos de duração;\n",
        "\n",
        "- Após a conclusão da prova, faça o download do Jupyter notebook e envie para o professor pelo sistema E-Disciplinas;\n",
        "\n",
        "- Provas realizadas com acesso de outro computador não pertencente ao LEI-SEL não serão consideradas;\n",
        "\n",
        "- As provas são individuais e sem consulta;\n",
        "\n",
        "- Nenhum outro material deve permanecer com o aluno durante a prova: caderno, livros, notebook, mochila, estojo, calculadora, celular, smartphone, smartwatch, etc. estão proibidos.\n",
        "\n",
        "- Não será permitido ao aluno portar telefone celular nem smartwatch durante a prova, mesmo que desligado e no bolso. O mesmo deve ser colocado dentro da mochila ou em cima da mesa do professor. Não esqueça de desligá-lo!\n",
        "\n",
        "- Durante a realização das provas, todos os programas e janelas do computador devem permanecer fechadas, com exceção da tela do navegador com o e-Disciplinas e do Google Colab (exclusivamente no caso da PP1). A consulta a qualquer material online ou qualquer site durante a realização da prova será considerado \"cola\" e anulará a prova do aluno, que ficará com nota zero.\n",
        "\n",
        "- O aluno não poderá sair da sala durante o período de cada prova (apenas no intervalo entre elas);\n",
        "\n",
        "- Os monitores da disciplina não são autorizados a responder nenhuma pergunta sobre o conteúdo das provas.\n",
        "\n",
        "- Boa Prova!\n",
        "\n",
        "\n",
        "**Dicas:**\n",
        "\n",
        "* Caso queira obter a descrição de uma função específica, você pode utilizar o comando `help()`. Por exemplo: `help(np.max)`\n",
        "\n",
        "* Ao plotar as imagens lembre-se das funções da biblioteca matplotlib.pyplot. Exemplo:\n",
        "\n",
        "``` python\n",
        "# Exemplo\n",
        "plt.figure(figsize=(5,5)) # Tamanho da figura: 5x5 polegadas\n",
        "plt.imshow(img, 'gray', vmin = 0,vmax = 255) # Mapa de cores: escala de cinza. Definição do valor máximo e mínimo de intensidade para visualização.\n",
        "plt.title(\"Titulo da figura\")\n",
        "plt.show()\n",
        "```\n",
        "\n",
        "---\n",
        "\n",
        " <table class=\"tfo-notebook-buttons\" align=\"left\">\n",
        "  <td>\n",
        "    <a target=\"_blank\" href=\"https://colab.research.google.com/github/LAVI-USP/SEL0449-SEL5895_2024_PROVA-PRATICA/blob/main/PP1/Prova_pr%C3%A1tica_SEL0449_SEL5895_2024.ipynb\"><img src=\"https://www.tensorflow.org/images/colab_logo_32px.png\" />Executar no Google Colab</a>\n",
        "  </td>\n",
        "  <td>\n",
        "    <a target=\"_blank\" href=\"https://github.com/LAVI-USP/SEL0449-SEL5895_2024_PROVA-PRATICA/blob/main/PP1/Prova_pr%C3%A1tica_SEL0449_SEL5895_2024.ipynb\"><img src=\"https://www.tensorflow.org/images/GitHub-Mark-32px.png\" />Ver codigo fonte no GitHub</a>\n",
        "  </td>\n",
        "</table>\n",
        "\n"
      ]
    },
    {
      "cell_type": "markdown",
      "metadata": {
        "id": "L3qYz1dB-tlT"
      },
      "source": [
        "`Nome: `\n",
        "\n",
        "`Número USP: `\n"
      ]
    },
    {
      "cell_type": "markdown",
      "metadata": {
        "id": "b9uBe7nevota"
      },
      "source": [
        "### Introdução:\n",
        "\n",
        "\n",
        "Vamos importar as bibliotecas que iremos utilizar:"
      ]
    },
    {
      "cell_type": "code",
      "metadata": {
        "id": "xnKV2As4aCX1"
      },
      "source": [
        "import numpy as np\n",
        "import matplotlib.pyplot as plt\n",
        "import cv2 as cv\n",
        "import os\n",
        "\n",
        "from IPython.display import HTML\n",
        "from base64 import b64encode"
      ],
      "execution_count": null,
      "outputs": []
    },
    {
      "cell_type": "markdown",
      "metadata": {
        "id": "NyvxHviMpShq"
      },
      "source": [
        "#### **Atenção**: os códigos abaixo são para fazer o download das imagens (EXECUTE-OS). Os mesmos não fazem parte dessa prática."
      ]
    },
    {
      "cell_type": "code",
      "metadata": {
        "id": "Amk5CM273Afp"
      },
      "source": [
        "import urllib.request\n",
        "\n",
        "try:\n",
        "  urllib.request.urlretrieve(\"https://github.com/LAVI-USP/SEL0449-SEL5895_2024_PROVA-PRATICA/blob/main/PP1/Imagens_prova/folha.png?raw=true\", \"folha.png\")\n",
        "except:\n",
        "  print(\"[ERRO] Não foi possível fazer o download das imagens dessa prática. Entre em contato com o monitor\")\n",
        "\n",
        "try:\n",
        "  urllib.request.urlretrieve(\"https://github.com/LAVI-USP/SEL0449-SEL5895_2024_PROVA-PRATICA/blob/main/PP1/Imagens_prova/raiox.png?raw=true\", \"raiox.png\")\n",
        "except:\n",
        "  print(\"[ERRO] Não foi possível fazer o download das imagens dessa prática. Entre em contato com o monitor\")\n",
        "\n"
      ],
      "execution_count": null,
      "outputs": []
    },
    {
      "cell_type": "markdown",
      "source": [
        "### 1) Espaço de cores e binarização\n",
        "\n",
        "Suponha que você seja um estudante de biologia e que em uma de suas aulas o professor comentou sobre o característico aparecimento de pontos de ferrugem, de coloração ```amarelada``` em algumas folhas, como indicativo de plantas mal-nutridas e não saudáveis.\n",
        "\n",
        "No caminho para casa você se depara com uma árvore cujas folhas em muito lembravam aquelas folhas adoecidas que havia visto nos slides de seu professor. Use seus conhecimentos de processamento de imagens coloridas para averiguar o estado de saúde da planta.\n",
        "\n",
        "1. Carregue a imagem ```folha.png``` mostre seu formato e verifique o número de canais.\n",
        "\n",
        "2. Decomponha a imagem RGB em suas três componentes. Mostre a imagem RGB e suas suas componentes em um subplot de 4 colunas. Coloque título nas imagens.\n",
        "\n",
        "3. Faça a binarização dos canais R, G e B por meio da análise de seus respectivos histogramas. Escolha thresholds que destaquem adequadamente, em pelo menos um dos canais de cor, os pontos de ferrugem. Mostre os canais binarizados em um subplot de 3 colunas (não esqueça de colocar título nas imagens).\n",
        "\n",
        "\n",
        "4. Sabendo que o estado de saúde da planta é verificado tendo por base a área acometida por pontos de ferrugem, determine a porcentagem da área da folha que já fora tomada pela doença.\n",
        "\n",
        "**Dicas:**\n",
        "*  Utilize a função *plt.subplot* para criar *subplots* e a função *plt.title* para colocar título em cada subplot. No plot das componentes utilize o *colormap* \"gray\" e especifique os valores máximos e mínimos em níveis de cinza.\n",
        "\n",
        "*  A função ```cv.imread```, quando configurada para ler imagens coloridas, retorna os canais no formato ```BGR```. Atenção ao decompor os canais. Além disso, a função ```plt.imshow``` mostra as imagens no formato ```RGB```. Faça a transformação necessária.\n",
        "\n",
        "\n",
        "**Funções úteis:**\n",
        "``` python\n",
        "img_spaceX = cv.cvtColor(img_spaceY, cv.COLOR_spaceY2spaceX)\n",
        "plt.hist(myImg.flatten(),bins=XX,density=False,range=(0,255))\n",
        "\n",
        "```"
      ],
      "metadata": {
        "id": "K0soh_EaJk52"
      }
    },
    {
      "cell_type": "code",
      "source": [
        "## -- Seu código começa AQUI -- ##\n",
        "\n",
        "\n",
        "## -- Seu código termina AQUI -- ##"
      ],
      "metadata": {
        "id": "rBS0pFqTJrtY"
      },
      "execution_count": null,
      "outputs": []
    },
    {
      "cell_type": "markdown",
      "source": [
        "### 2) Alargamento de Contraste\n",
        "\n",
        "Devido ao tipo de aquisição da imagem e parâmetros do equipamento, um exame de raio-X da mão necessita uma etapa de processamento para que a estrutura óssea seja visualizada em detalhes.\n",
        "\n",
        "**Exercício:**\n",
        "\n",
        "1. Carregue e mostre a imagem ```raiox.png``` com o seu respectivo histograma.\n",
        "\n",
        "2. Realize o alargamento de contraste e plote a imagem corrigida e seu respectivo histograma. Indique quais as constantes de brilho e contraste utilizadas para essa operação.\n",
        "\n",
        "Dicas:\n",
        "\n",
        "*  O largamento de histograma é considerado uma transformação linear cuja função mapeia $f(x,y)$ em $g(x,y)$ conforme:\n",
        "\n",
        "$$g(x,y) = c \\times f(x,y) + b,$$\n",
        "\n",
        "onde $c$ é uma constante que controla o contraste, e $b$, o brilho."
      ],
      "metadata": {
        "id": "jcooT7nHmwZk"
      }
    },
    {
      "cell_type": "code",
      "source": [
        "## -- Seu código começa AQUI -- ##\n",
        "\n",
        "## -- Seu código termina AQUI -- ##"
      ],
      "metadata": {
        "id": "5PzYdMiLpFdc"
      },
      "execution_count": null,
      "outputs": []
    }
  ]
}
