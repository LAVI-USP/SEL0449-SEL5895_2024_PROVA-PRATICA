{
  "nbformat": 4,
  "nbformat_minor": 0,
  "metadata": {
    "colab": {
      "provenance": []
    },
    "kernelspec": {
      "name": "python3",
      "display_name": "Python 3"
    }
  },
  "cells": [
    {
      "cell_type": "markdown",
      "metadata": {
        "id": "kGlmyFQMaR-U"
      },
      "source": [
        "# Prova prática - SEL0339/SEL5886 (2023)\n",
        "### Introdução à Visão Computacional (SEL0339/SEL5886)\n",
        "\n",
        "**Instruções:**\n",
        "\n",
        " 1. Esta prova consiste em 3 exercícios.\n",
        " 1. Deve-se colocar comentários nos códigos desenvolvidos.\n",
        "\n",
        "\n",
        "ATENÇÃO!\n",
        "\n",
        "Leia atentamente as instruções antes de iniciar a prova.\n",
        "\n",
        "Não serão aceitas reclamações posteriores por desconhecimento de qualquer informação descrita neste tópico.\n",
        "\n",
        "Instruções para a realização da Prova 1 prática de Introdução à Visão Computacional (SEL0339):\n",
        "\n",
        "- Leia atentamente as instruções antes de iniciar a prova.\n",
        "\n",
        "- Não serão aceitas reclamações posteriores por desconhecimento de qualquer informação descrita neste tópico.\n",
        "\n",
        "- Instruções para a realização da Prova 1 prática de Introdução à Visão Computacional (SEL0339):\n",
        "\n",
        "- A prova PP1 estará disponível no sistema e-Disciplinas, que deve ser acessado a partir das 9:10h do dia 26/10/2023 exclusivamente de um dos computadores do Laboratório LEI-SEL-MENOR;\n",
        "\n",
        "- Só será permitido o envio da prova resolvida até às 10:00 do mesmo dia, totalizando 50 minutos de duração;\n",
        "\n",
        "- Após a conclusão da prova, anexo o arquivo, faça o download do Jupyter notebook e envie para o professor pelo sistema E-Disciplinas;\n",
        "\n",
        "- Provas realizadas com acesso de outro computador não pertencente ao LEI-SEL não serão consideradas;\n",
        "\n",
        "- As provas são individuais e sem consulta;\n",
        "\n",
        "- Nenhum outro material deve permanecer com o aluno durante a prova: caderno, livros, notebook, mochila, estojo, calculadora, celular, smartphone, smartwatch, etc. estão proibidos.\n",
        "\n",
        "- Não será permitido ao aluno portar telefone celular nem smartwatch durante a prova, mesmo que desligado e no bolso. O mesmo deve ser colocado dentro da mochila ou em cima da mesa do professor. Não esqueça de desligá-lo!\n",
        "\n",
        "- Durante a realização das provas, todos os programas e janelas do computador devem permanecer fechadas, com exceção da tela do navegador com o e-Disciplinas e do Google Colab (exclusivamente no caso da PP1). A consulta a qualquer material online ou qualquer site durante a realização da prova será considerado \"cola\" e anulará a prova do aluno, que ficará com nota zero.\n",
        "\n",
        "- O aluno não poderá sair da sala durante o período de cada prova (apenas no intervalo entre elas);\n",
        "\n",
        "- Os monitores da disciplina não são autorizados a responder nenhuma pergunta sobre o conteúdo das provas.\n",
        "\n",
        "- Boa Prova!\n",
        "\n",
        "\n",
        "---\n",
        "\n",
        "\n",
        "\n",
        " <table class=\"tfo-notebook-buttons\" align=\"left\">\n",
        "  <td>\n",
        "    <a target=\"_blank\" href=\"https://colab.research.google.com/github/LAVI-USP/SEL0339-SEL5886_2023_PROVA-PRATICA/blob/main/PP1/Prova_pr%C3%A1tica_SEL0339_SEL5886_(2023).ipynb\"><img src=\"https://www.tensorflow.org/images/colab_logo_32px.png\" />Executar no Google Colab</a>\n",
        "  </td>\n",
        "  <td>\n",
        "    <a target=\"_blank\" href=\"https://github.com/LAVI-USP/SEL0339-SEL5886_2023_PROVA-PRATICA/blob/main/PP1/Prova_pr%C3%A1tica_SEL0339_SEL5886_(2023).ipynb\"><img src=\"https://www.tensorflow.org/images/GitHub-Mark-32px.png\" />Ver codigo fonte no GitHub</a>\n",
        "  </td>\n",
        "</table>\n"
      ]
    },
    {
      "cell_type": "markdown",
      "metadata": {
        "id": "L3qYz1dB-tlT"
      },
      "source": [
        "`Nome: `\n",
        "\n",
        "`Número USP: `\n"
      ]
    },
    {
      "cell_type": "markdown",
      "metadata": {
        "id": "b9uBe7nevota"
      },
      "source": [
        "### Introdução:\n",
        "\n",
        "\n",
        "Vamos importar as bibliotecas que iremos utilizar:"
      ]
    },
    {
      "cell_type": "code",
      "metadata": {
        "id": "xnKV2As4aCX1"
      },
      "source": [
        "import numpy as np\n",
        "import matplotlib.pyplot as plt\n",
        "import cv2 as cv\n",
        "\n",
        "from skimage.transform import hough_circle, hough_circle_peaks\n",
        "\n",
        "\n",
        "import numpy as np\n",
        "import matplotlib.pyplot as plt\n",
        "import cv2 as cv\n",
        "import os\n",
        "\n",
        "from IPython.display import HTML\n",
        "from base64 import b64encode\n",
        "\n"
      ],
      "execution_count": null,
      "outputs": []
    },
    {
      "cell_type": "markdown",
      "metadata": {
        "id": "NyvxHviMpShq"
      },
      "source": [
        "#### **Atenção**: os códigos abaixo são para fazer o download das imagens (EXECUTE-OS). Os mesmos não fazem parte dessa prática."
      ]
    },
    {
      "cell_type": "code",
      "metadata": {
        "id": "Amk5CM273Afp"
      },
      "source": [
        "import urllib.request\n",
        "\n",
        "\n",
        "try:\n",
        "  urllib.request.urlretrieve(\"https://github.com/LAVI-USP/SEL0339-SEL5886_2023_PROVA-PRATICA/raw/main/PP1/Imagens_prova/texto.png\", \"texto.png\")\n",
        "except:\n",
        "  print(\"[ERRO] Não foi possível fazer o download das imagens dessa prática. Entre em contato com o monitor\")\n",
        "\n",
        "try:\n",
        "  urllib.request.urlretrieve(\"https://github.com/LAVI-USP/SEL0339-SEL5886_2023_PROVA-PRATICA/raw/main/PP1/Imagens_prova/homem_aranha_doende.jpg\", \"homem_aranha_doende.jpg\")\n",
        "except:\n",
        "  print(\"[ERRO] Não foi possível fazer o download das imagens dessa prática. Entre em contato com o monitor\")\n",
        "\n",
        "try:\n",
        "  urllib.request.urlretrieve(\"https://github.com/LAVI-USP/SEL0339-SEL5886_2023_PROVA-PRATICA/raw/main/PP1/Imagens_prova/wirebond_mask.tif\", \"wirebond_mask.tif\")\n",
        "except:\n",
        "  print(\"[ERRO] Não foi possível fazer o download das imagens dessa prática. Entre em contato com o monitor\")\n",
        "\n"
      ],
      "execution_count": null,
      "outputs": []
    },
    {
      "cell_type": "markdown",
      "source": [
        "### 1) Espaço de Cores\n",
        "\n",
        "1. Leia a imagem ```homem_aranha_doende.jpg```, mostre seu formato e verifique o número de canais. Decomponha a imagem RGB em suas três componentes. Mostre a imagem RGB assim como suas componentes em um subplot de 4 colunas. Identifique cada imagem colocando um título em cada uma. **Comente os resultados.**\n",
        "2. Transforme a imagem RGB para HSV. Decomponha a imagem HSV em suas três componentes. Mostre a imagem HSV assim como suas componentes em um subplot de 4 colunas. Identifique cada imagem colocando um título em cada uma.. **Comente os resultados.**\n",
        "3. Transforme a imagem RGB para CMY. Decomponha a imagem CMY em suas três componentes. Mostre a imagem CMY assim como suas componentes em um subplot de 4 colunas. Identifique cada imagem colocando um título em cada uma. **Comente os resultados.**\n",
        "\n",
        "**Dicas:**\n",
        "*  Utilize a função *plt.subplot* para criar *subplots* e a função *plt.title* para colocar título em cada subplot. No plot das componentes utilize o *colormap* \"gray\".\n",
        "\n",
        "*  A função ```cv.imread```, quando configurada para ler imagens coloridas, retorna os canais no formato ```BGR```. Atenção ao decompor os canais. Além disso, a função ```plt.imshow``` mostra as imagens no formato ```RGB```. Faça a transformação necessária.\n",
        "\n",
        "``` python\n",
        "img_spaceX = cv.cvtColor(img_spaceY, cv.COLOR_spaceY2spaceX)\n",
        "```\n"
      ],
      "metadata": {
        "id": "K0soh_EaJk52"
      }
    },
    {
      "cell_type": "code",
      "source": [
        "## -- Seu código começa AQUI -- ##\n",
        "\n",
        "## -- Seu código termina AQUI -- ##"
      ],
      "metadata": {
        "id": "rBS0pFqTJrtY"
      },
      "execution_count": null,
      "outputs": []
    },
    {
      "cell_type": "markdown",
      "source": [
        "### 2) Dilatação\n",
        "\n",
        "**Exercício:**\n",
        "\n",
        "1. Dilatar a imagem ```texto.png``` usando o seguinte elemento estruturante (SE) e mostre a imagem resultante:\n",
        "\n",
        "\\begin{equation}\n",
        "SE =\n",
        "\\begin{bmatrix}\n",
        "1 & 0 & 1\\\\\n",
        "0 & 1 & 0\\\\\n",
        "1 & 0 & 1\n",
        "\\end{bmatrix}\n",
        "\\end{equation}\n",
        "\n",
        "2. Gere os seguintes elementos estruturantes e mostre-os em *subplots*.\n",
        "\n",
        "  *   SE1: Retângulo de tamanho 5;\n",
        "  ``` python\n",
        "  cv.getStructuringElement(cv.MORPH_RECT,(.,.))\n",
        "  ```\n",
        "  *   SE2: Cruz de tamanho 7;\n",
        "  ``` python\n",
        "  cv.getStructuringElement(cv.MORPH_CROSS,(.,.))\n",
        "  ```\n",
        "  *   SE3: Elipse de tamanho 11.\n",
        "  ``` python\n",
        "  cv.getStructuringElement(cv.MORPH_ELLIPSE,(.,.))\n",
        "  ```\n",
        "3. Faça a erosão da imagem resultante do item 1, agora com um elemento estruturante em forma de elipse de tamanho 5. Mostre o resultado.\n",
        "\n",
        "4. Subtraia o resultado do item 3 da imagem original (sem nenhuma operação morforlógica) e mostre a imagem resultante.\n",
        "\n",
        "5. Comente os resultados do item 1, 3 e 4.\n",
        "\n",
        "Dicas:\n",
        "\n",
        "*  A função [cv.dilate](https://docs.opencv.org/3.4/d4/d86/group__imgproc__filter.html#ga4ff0f3318642c4f469d0e11f242f3b6c) realiza a operação de dilatação.\n",
        "\n",
        "``` python\n",
        "cv.dilate(myImg, SE, iterations = 1)\n",
        "```"
      ],
      "metadata": {
        "id": "l1jMJQ3UJyB3"
      }
    },
    {
      "cell_type": "code",
      "source": [
        "## -- Seu código começa AQUI -- ##\n",
        "\n",
        "## -- Seu código termina AQUI -- ##"
      ],
      "metadata": {
        "id": "ircO2JOJJ7eT"
      },
      "execution_count": null,
      "outputs": []
    },
    {
      "cell_type": "markdown",
      "source": [
        "## 3) Detector de bordas\n",
        "\n",
        "**Exercício:**\n",
        "\n",
        "1. Aplicar os detectores de bordas **verticais e horizontais** de Prewitt na imagem ```wirebond_mask.tif```. Mostre a imagem original e as resultantes em um subplot.\n",
        "\n",
        "2. Aplicar os detectores de bordas **verticais e horizontais** de Sobel na imagem ```wirebond_mask.tif```. Mostre a imagem original e as resultantes em um subplot.\n",
        "\n",
        "2. Comente os resultados encontrados.\n",
        "\n",
        "**Dicas:**\n",
        "\n",
        "* Os *kernels* solicitados foram fornecidos abaixo;\n",
        "* Você pode criar um laço de repetição para pegar cada kernel da lista. Segue abaixo um exemplo de um `for loop` em uma lista.\n",
        "\n",
        "``` python\n",
        "kernel_lista = [kernel1,kernel2,kernel3]\n",
        "for kernel in kernel_lista:\n",
        "  print(kernel)\n",
        "\n",
        "```\n",
        "* Para aplicar o filtro escolhido, utilize a função **cv.filter2D**.\n",
        "\n",
        "``` python\n",
        "img_f = cv.filter2D(img,-1,kernel)\n",
        "\n",
        "```\n",
        "\n"
      ],
      "metadata": {
        "id": "xugnELSGasr0"
      }
    },
    {
      "cell_type": "code",
      "source": [
        "# Prewitt\n",
        "p1 = np.array(((-1,-1,-1),\n",
        "               ( 0, 0, 0),\n",
        "               ( 1, 1, 1)))\n",
        "\n",
        "p2 = np.array(((-1, 0, 1),\n",
        "               (-1, 0, 1),\n",
        "               (-1, 0, 1)))\n",
        "\n",
        "# Lista com todos os kernels (Prewitt)\n",
        "prewitt = [p1,p2]\n",
        "\n",
        "# Sobel\n",
        "s1 = np.array(((-1,-2,-1),\n",
        "               ( 0, 0, 0),\n",
        "               ( 1, 2, 1)))\n",
        "\n",
        "s2 = np.array(((-1, 0, 1),\n",
        "               (-2, 0, 2),\n",
        "               (-1, 0, 1)))\n",
        "\n",
        "s3 = np.array(((-2,-1, 0),\n",
        "               (-1, 0, 1),\n",
        "               ( 0, 1, 2)))\n",
        "\n",
        "s4 = np.array((( 0, 1, 2),\n",
        "               (-1, 0, 1),\n",
        "               (-2,-1, 0)))\n",
        "\n",
        "s5 = np.array((( 2, 1, 0),\n",
        "               ( 1, 0,-1),\n",
        "               ( 0,-1,-2)))\n",
        "\n",
        "s6 = np.array((( 0,-1,-2),\n",
        "               ( 1, 0,-1),\n",
        "               ( 2, 1, 0)))\n",
        "\n",
        "# Lista com todos os kernels (Sobel)\n",
        "sobel = [s1,s2,s3,s4,s5,s6]\n",
        "\n",
        "# Laplaciano\n",
        "laplaciano = np.array(((-1,-1,-1),\n",
        "                       (-1, 8,-1),\n",
        "                       (-1,-1,-1)))\n",
        "\n"
      ],
      "metadata": {
        "id": "pM39mR5HatvJ"
      },
      "execution_count": null,
      "outputs": []
    },
    {
      "cell_type": "code",
      "source": [
        "## -- Seu código começa AQUI -- ##\n",
        "\n",
        "## -- Seu código termina AQUI -- ##"
      ],
      "metadata": {
        "id": "WkyZbVhZcJKH"
      },
      "execution_count": null,
      "outputs": []
    }
  ]
}
